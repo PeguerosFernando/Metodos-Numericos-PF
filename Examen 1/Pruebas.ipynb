{
 "cells": [
  {
   "cell_type": "code",
   "execution_count": 2,
   "metadata": {},
   "outputs": [],
   "source": [
    "%load_ext autoreload\n",
    "%autoreload 2"
   ]
  },
  {
   "cell_type": "code",
   "execution_count": 2,
   "metadata": {},
   "outputs": [],
   "source": [
    "import numpy as np\n",
    "import matplotlib.pyplot as plt\n",
    "from Metods import *"
   ]
  },
  {
   "cell_type": "code",
   "execution_count": 15,
   "metadata": {},
   "outputs": [
    {
     "name": "stdout",
     "output_type": "stream",
     "text": [
      "[-1.0000000059604643, 0.9999999940395358]\n",
      "[-1.0, 1.0]\n",
      "-1.0\n",
      "1.0\n",
      "0.5671432879864986\n"
     ]
    }
   ],
   "source": [
    "print(Biseccion(\"x**2-1\", [-2, 2]))\n",
    "print(NewtonI(\"x**2-1\", \"2*x\", [-2, 2]))\n",
    "print(Secante(\"x**2-1\", [-2, 4]))\n",
    "print(Secante(\"x**2-1\", [-4, 2]))\n",
    "print(PuntoFijo(\"np.exp(-x)\", -1))"
   ]
  }
 ],
 "metadata": {
  "kernelspec": {
   "display_name": "Python 3",
   "language": "python",
   "name": "python3"
  },
  "language_info": {
   "codemirror_mode": {
    "name": "ipython",
    "version": 3
   },
   "file_extension": ".py",
   "mimetype": "text/x-python",
   "name": "python",
   "nbconvert_exporter": "python",
   "pygments_lexer": "ipython3",
   "version": "3.11.8"
  }
 },
 "nbformat": 4,
 "nbformat_minor": 2
}
